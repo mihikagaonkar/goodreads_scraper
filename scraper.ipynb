{
 "cells": [
  {
   "cell_type": "code",
   "execution_count": 1,
   "id": "bf7f9124",
   "metadata": {},
   "outputs": [],
   "source": [
    "import time\n",
    "import urllib.request\n",
    "import urllib.parse\n",
    "import requests\n",
    "from bs4 import BeautifulSoup as _BeautifulSoup\n",
    "import csv\n",
    "from dotenv import load_dotenv"
   ]
  },
  {
   "cell_type": "code",
   "execution_count": 2,
   "id": "514474ca",
   "metadata": {},
   "outputs": [],
   "source": [
    "load_dotenv()"
   ]
  },
  {
   "cell_type": "code",
   "execution_count": 3,
   "id": "1ac26748",
   "metadata": {},
   "outputs": [],
   "source": [
    "genre = ['mystery', 'nonfiction', 'poetry', 'religion', 'romance', 'science-fiction', 'self-help', 'suspense', 'spirituality', 'sports', 'thriller', 'travel', 'young-adult']"
   ]
  },
  {
   "cell_type": "code",
   "execution_count": 4,
   "id": "f1c82fea",
   "metadata": {},
   "outputs": [],
   "source": [
    "def create_csv(genre):\n",
    "    with open(genre + \".csv\", \"a\", newline=\"\", encoding=\"utf-8\") as csv_file:\n",
    "        fieldnames = ['Id', 'Title', 'Author', 'Average Rating', 'Number of ratings', 'Year of publishing', 'Url of image', 'Genre']\n",
    "        writer = csv.DictWriter(csv_file, fieldnames = fieldnames)\n",
    "        writer.writeheader()"
   ]
  },
  {
   "cell_type": "code",
   "execution_count": 5,
   "id": "f61a8380",
   "metadata": {
    "scrolled": true
   },
   "outputs": [],
   "source": [
    "def get_id(titles):\n",
    "    book_id = []\n",
    "    for i in titles:\n",
    "        book_id.append(i['href'].strip('/book/show/'))\n",
    "    return book_id\n",
    "def get_title(titles):\n",
    "    titles_content = []\n",
    "    for i in titles:\n",
    "        titles_content.append(i.contents)\n",
    "    return titles_content"
   ]
  },
  {
   "cell_type": "code",
   "execution_count": 6,
   "id": "a615dffe",
   "metadata": {},
   "outputs": [],
   "source": [
    "def get_author(authors):\n",
    "    author_name = []\n",
    "    for i in authors:\n",
    "        author_name.append(i.find('span').contents)\n",
    "    return author_name"
   ]
  },
  {
   "cell_type": "code",
   "execution_count": 7,
   "id": "e97ea1f5",
   "metadata": {
    "scrolled": false
   },
   "outputs": [],
   "source": [
    "def get_details(details):\n",
    "    details_list = []\n",
    "    for i in range(len(details)):\n",
    "        detail_string = ''.join(details[i].contents).split('—')\n",
    "        detail = []\n",
    "        for j in detail_string:\n",
    "            detail.append(j.strip('\\n                ').strip('avg rating ').strip(' ratings').strip('published '))\n",
    "        details_list.append(detail)\n",
    "    return details_list"
   ]
  },
  {
   "cell_type": "code",
   "execution_count": 8,
   "id": "1815c246",
   "metadata": {},
   "outputs": [],
   "source": [
    "def get_image(images):\n",
    "    img = []\n",
    "    for i in images:\n",
    "        if i != None:\n",
    "            img.append(i.find('img')['src'])\n",
    "        else:\n",
    "            img.append('Null')\n",
    "    return img"
   ]
  },
  {
   "cell_type": "code",
   "execution_count": 9,
   "id": "1baf01ea",
   "metadata": {},
   "outputs": [],
   "source": [
    "def write_data(book_id, titles_content, author_name, details_list, img, genre ):\n",
    "    with open(genre + \".csv\", \"a\", newline=\"\", encoding=\"utf-8\" ) as csv_file:\n",
    "        fieldnames = ['Id', 'Title', 'Author', 'Average Rating', 'Number of ratings', 'Year of publishing', 'Url of image', 'Genre']\n",
    "        writer = csv.DictWriter(csv_file, fieldnames = fieldnames)\n",
    "        dict = {}\n",
    "        for i in range(len(book_id)):\n",
    "            dict['Id'] = book_id[i]\n",
    "            dict['Title'] = ''.join(titles_content[i])\n",
    "            dict['Author'] = ''.join(author_name[i])\n",
    "            dict['Average Rating'] = float(details_list[i][0])\n",
    "            dict['Number of ratings'] = int(details_list[i][1].replace(',', ''))\n",
    "            if details_list[i][2] != '':\n",
    "                dict['Year of publishing'] = int(details_list[i][2])\n",
    "            else:\n",
    "                dict['Year of publishing'] = 'Null'\n",
    "            dict['Url of image'] = img[i]\n",
    "            dict['Genre'] = genre \n",
    "            writer.writerow(dict)"
   ]
  },
  {
   "cell_type": "code",
   "execution_count": 10,
   "id": "bc570135",
   "metadata": {},
   "outputs": [],
   "source": [
    "def scrape(genre, page_number):\n",
    "    session_requests = requests.session()\n",
    "    for i in range(page_number):\n",
    "        url = 'https://www.goodreads.com/shelf/show/' + genre + '?page=' + str(i+1)\n",
    "        headers = {'accept': 'text/html,application/xhtml+xml,application/xml;q=0.9,image/webp,image/apng,*/*;q=0.8,application/signed-exchange;v=b3;q=0.9', \n",
    "                   'accept-encoding': 'gzip, deflate, br', \n",
    "                   'accept-language': 'en-GB,en;q=0.9,en-US;q=0.8,ml;q=0.7', \n",
    "                   'cache-control': 'max-age=0', \n",
    "                   'dnt': '1', 'sec-fetch-dest': 'document', \n",
    "                   'sec-fetch-mode': 'navigate', \n",
    "                   'sec-fetch-site': 'none', \n",
    "                   'sec-fetch-user': '?1', \n",
    "                   'upgrade-insecure-requests': '1', \n",
    "                   'user-agent': 'Mozilla/5.0 (Windows NT 10.0; Win64; x64) AppleWebKit/537.36 (KHTML, like Gecko) Chrome/81.0.4044.122 Safari/537.36', \n",
    "                   'referer': url,\n",
    "                   'Cookie': os.environ.get('cookies')      #load this from your .env file which stores _session_id2 cookie\n",
    "                  }\n",
    "        result = session_requests.get(url, headers = headers)\n",
    "\n",
    "\n",
    "        bs4_page = _BeautifulSoup(result.content, features=\"html.parser\")\n",
    "\n",
    "        titles = bs4_page.find_all('a', class_='bookTitle')\n",
    "        titles_content = get_title(titles)\n",
    "\n",
    "        book_id = get_id(titles)\n",
    "\n",
    "        authors = bs4_page.find_all('a', class_='authorName')\n",
    "        author_name = get_author(authors)\n",
    "\n",
    "        details = bs4_page.find_all('span', class_='greyText smallText')\n",
    "        details_list = get_details(details)\n",
    "\n",
    "        images = bs4_page.find_all('a', class_='leftAlignedImage')\n",
    "        img = get_image(images)\n",
    "\n",
    "        write_data( book_id, titles_content, author_name, details_list, img, genre)\n",
    "\n"
   ]
  },
  {
   "cell_type": "code",
   "execution_count": 11,
   "id": "565e27c0",
   "metadata": {
    "scrolled": true
   },
   "outputs": [],
   "source": [
    "for i in genre:\n",
    "    create_csv(i)\n",
    "    scrape(i, 25)"
   ]
  }
 ],
 "metadata": {
  "kernelspec": {
   "display_name": "Python 3 (ipykernel)",
   "language": "python",
   "name": "python3"
  },
  "language_info": {
   "codemirror_mode": {
    "name": "ipython",
    "version": 3
   },
   "file_extension": ".py",
   "mimetype": "text/x-python",
   "name": "python",
   "nbconvert_exporter": "python",
   "pygments_lexer": "ipython3",
   "version": "3.9.7"
  }
 },
 "nbformat": 4,
 "nbformat_minor": 5
}
